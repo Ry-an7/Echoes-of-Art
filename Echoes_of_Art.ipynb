{
  "nbformat": 4,
  "nbformat_minor": 0,
  "metadata": {
    "colab": {
      "provenance": []
    },
    "kernelspec": {
      "name": "python3",
      "display_name": "Python 3"
    },
    "language_info": {
      "name": "python"
    }
  },
  "cells": [
    {
      "cell_type": "markdown",
      "source": [
        "## Install Libraries"
      ],
      "metadata": {
        "id": "ot0kzOCQ0qwf"
      }
    },
    {
      "cell_type": "code",
      "source": [
        "!pip install gradio\n",
        "!pip install librosa\n",
        "!pip install matplotlib\n",
        "!pip install numpy\n",
        "!pip install pandas\n",
        "!pip install pillow\n",
        "!pip install tensorflow tensorflow_hub"
      ],
      "metadata": {
        "id": "Cp0PD9xNNTy_",
        "collapsed": true
      },
      "execution_count": null,
      "outputs": []
    },
    {
      "cell_type": "code",
      "source": [
        "!pip install tensorflow tensorflow_hub"
      ],
      "metadata": {
        "id": "NBOOpBx3DH29",
        "outputId": "fe2f2791-f565-4dba-d37a-c1d6f35d0570",
        "colab": {
          "base_uri": "https://localhost:8080/"
        }
      },
      "execution_count": 5,
      "outputs": [
        {
          "output_type": "stream",
          "name": "stdout",
          "text": [
            "Requirement already satisfied: tensorflow in c:\\users\\ryryn\\appdata\\local\\programs\\python\\python311\\lib\\site-packages (2.18.0)\n",
            "Requirement already satisfied: tensorflow_hub in c:\\users\\ryryn\\appdata\\local\\programs\\python\\python311\\lib\\site-packages (0.16.1)\n",
            "Requirement already satisfied: tensorflow-intel==2.18.0 in c:\\users\\ryryn\\appdata\\local\\programs\\python\\python311\\lib\\site-packages (from tensorflow) (2.18.0)\n",
            "Requirement already satisfied: absl-py>=1.0.0 in c:\\users\\ryryn\\appdata\\local\\programs\\python\\python311\\lib\\site-packages (from tensorflow-intel==2.18.0->tensorflow) (2.1.0)\n",
            "Requirement already satisfied: astunparse>=1.6.0 in c:\\users\\ryryn\\appdata\\local\\programs\\python\\python311\\lib\\site-packages (from tensorflow-intel==2.18.0->tensorflow) (1.6.3)\n",
            "Requirement already satisfied: flatbuffers>=24.3.25 in c:\\users\\ryryn\\appdata\\local\\programs\\python\\python311\\lib\\site-packages (from tensorflow-intel==2.18.0->tensorflow) (24.3.25)\n",
            "Requirement already satisfied: gast!=0.5.0,!=0.5.1,!=0.5.2,>=0.2.1 in c:\\users\\ryryn\\appdata\\local\\programs\\python\\python311\\lib\\site-packages (from tensorflow-intel==2.18.0->tensorflow) (0.6.0)\n",
            "Requirement already satisfied: google-pasta>=0.1.1 in c:\\users\\ryryn\\appdata\\local\\programs\\python\\python311\\lib\\site-packages (from tensorflow-intel==2.18.0->tensorflow) (0.2.0)\n",
            "Requirement already satisfied: libclang>=13.0.0 in c:\\users\\ryryn\\appdata\\local\\programs\\python\\python311\\lib\\site-packages (from tensorflow-intel==2.18.0->tensorflow) (18.1.1)\n",
            "Requirement already satisfied: opt-einsum>=2.3.2 in c:\\users\\ryryn\\appdata\\local\\programs\\python\\python311\\lib\\site-packages (from tensorflow-intel==2.18.0->tensorflow) (3.4.0)\n",
            "Requirement already satisfied: packaging in c:\\users\\ryryn\\appdata\\local\\programs\\python\\python311\\lib\\site-packages (from tensorflow-intel==2.18.0->tensorflow) (24.1)\n",
            "Requirement already satisfied: protobuf!=4.21.0,!=4.21.1,!=4.21.2,!=4.21.3,!=4.21.4,!=4.21.5,<6.0.0dev,>=3.20.3 in c:\\users\\ryryn\\appdata\\local\\programs\\python\\python311\\lib\\site-packages (from tensorflow-intel==2.18.0->tensorflow) (5.29.1)\n",
            "Requirement already satisfied: requests<3,>=2.21.0 in c:\\users\\ryryn\\appdata\\local\\programs\\python\\python311\\lib\\site-packages (from tensorflow-intel==2.18.0->tensorflow) (2.31.0)\n",
            "Requirement already satisfied: setuptools in c:\\users\\ryryn\\appdata\\local\\programs\\python\\python311\\lib\\site-packages (from tensorflow-intel==2.18.0->tensorflow) (68.2.2)\n",
            "Requirement already satisfied: six>=1.12.0 in c:\\users\\ryryn\\appdata\\local\\programs\\python\\python311\\lib\\site-packages (from tensorflow-intel==2.18.0->tensorflow) (1.16.0)\n",
            "Requirement already satisfied: termcolor>=1.1.0 in c:\\users\\ryryn\\appdata\\local\\programs\\python\\python311\\lib\\site-packages (from tensorflow-intel==2.18.0->tensorflow) (2.5.0)\n",
            "Requirement already satisfied: typing-extensions>=3.6.6 in c:\\users\\ryryn\\appdata\\local\\programs\\python\\python311\\lib\\site-packages (from tensorflow-intel==2.18.0->tensorflow) (4.12.2)\n",
            "Requirement already satisfied: wrapt>=1.11.0 in c:\\users\\ryryn\\appdata\\local\\programs\\python\\python311\\lib\\site-packages (from tensorflow-intel==2.18.0->tensorflow) (1.17.0)\n",
            "Requirement already satisfied: grpcio<2.0,>=1.24.3 in c:\\users\\ryryn\\appdata\\local\\programs\\python\\python311\\lib\\site-packages (from tensorflow-intel==2.18.0->tensorflow) (1.68.1)\n",
            "Requirement already satisfied: tensorboard<2.19,>=2.18 in c:\\users\\ryryn\\appdata\\local\\programs\\python\\python311\\lib\\site-packages (from tensorflow-intel==2.18.0->tensorflow) (2.18.0)\n",
            "Requirement already satisfied: keras>=3.5.0 in c:\\users\\ryryn\\appdata\\local\\programs\\python\\python311\\lib\\site-packages (from tensorflow-intel==2.18.0->tensorflow) (3.7.0)\n",
            "Requirement already satisfied: numpy<2.1.0,>=1.26.0 in c:\\users\\ryryn\\appdata\\local\\programs\\python\\python311\\lib\\site-packages (from tensorflow-intel==2.18.0->tensorflow) (1.26.4)\n",
            "Requirement already satisfied: h5py>=3.11.0 in c:\\users\\ryryn\\appdata\\local\\programs\\python\\python311\\lib\\site-packages (from tensorflow-intel==2.18.0->tensorflow) (3.12.1)\n",
            "Requirement already satisfied: ml-dtypes<0.5.0,>=0.4.0 in c:\\users\\ryryn\\appdata\\local\\programs\\python\\python311\\lib\\site-packages (from tensorflow-intel==2.18.0->tensorflow) (0.4.1)\n",
            "Requirement already satisfied: tensorflow-io-gcs-filesystem>=0.23.1 in c:\\users\\ryryn\\appdata\\local\\programs\\python\\python311\\lib\\site-packages (from tensorflow-intel==2.18.0->tensorflow) (0.31.0)\n",
            "Requirement already satisfied: tf-keras>=2.14.1 in c:\\users\\ryryn\\appdata\\local\\programs\\python\\python311\\lib\\site-packages (from tensorflow_hub) (2.18.0)\n",
            "Requirement already satisfied: wheel<1.0,>=0.23.0 in c:\\users\\ryryn\\appdata\\local\\programs\\python\\python311\\lib\\site-packages (from astunparse>=1.6.0->tensorflow-intel==2.18.0->tensorflow) (0.45.1)\n",
            "Requirement already satisfied: rich in c:\\users\\ryryn\\appdata\\local\\programs\\python\\python311\\lib\\site-packages (from keras>=3.5.0->tensorflow-intel==2.18.0->tensorflow) (13.7.0)\n",
            "Requirement already satisfied: namex in c:\\users\\ryryn\\appdata\\local\\programs\\python\\python311\\lib\\site-packages (from keras>=3.5.0->tensorflow-intel==2.18.0->tensorflow) (0.0.8)\n",
            "Requirement already satisfied: optree in c:\\users\\ryryn\\appdata\\local\\programs\\python\\python311\\lib\\site-packages (from keras>=3.5.0->tensorflow-intel==2.18.0->tensorflow) (0.13.1)\n",
            "Requirement already satisfied: charset-normalizer<4,>=2 in c:\\users\\ryryn\\appdata\\local\\programs\\python\\python311\\lib\\site-packages (from requests<3,>=2.21.0->tensorflow-intel==2.18.0->tensorflow) (3.2.0)\n",
            "Requirement already satisfied: idna<4,>=2.5 in c:\\users\\ryryn\\appdata\\local\\programs\\python\\python311\\lib\\site-packages (from requests<3,>=2.21.0->tensorflow-intel==2.18.0->tensorflow) (3.4)\n",
            "Requirement already satisfied: urllib3<3,>=1.21.1 in c:\\users\\ryryn\\appdata\\local\\programs\\python\\python311\\lib\\site-packages (from requests<3,>=2.21.0->tensorflow-intel==2.18.0->tensorflow) (2.0.4)\n",
            "Requirement already satisfied: certifi>=2017.4.17 in c:\\users\\ryryn\\appdata\\local\\programs\\python\\python311\\lib\\site-packages (from requests<3,>=2.21.0->tensorflow-intel==2.18.0->tensorflow) (2023.11.17)\n",
            "Requirement already satisfied: markdown>=2.6.8 in c:\\users\\ryryn\\appdata\\local\\programs\\python\\python311\\lib\\site-packages (from tensorboard<2.19,>=2.18->tensorflow-intel==2.18.0->tensorflow) (3.7)\n",
            "Requirement already satisfied: tensorboard-data-server<0.8.0,>=0.7.0 in c:\\users\\ryryn\\appdata\\local\\programs\\python\\python311\\lib\\site-packages (from tensorboard<2.19,>=2.18->tensorflow-intel==2.18.0->tensorflow) (0.7.2)\n",
            "Requirement already satisfied: werkzeug>=1.0.1 in c:\\users\\ryryn\\appdata\\local\\programs\\python\\python311\\lib\\site-packages (from tensorboard<2.19,>=2.18->tensorflow-intel==2.18.0->tensorflow) (3.1.3)\n",
            "Requirement already satisfied: MarkupSafe>=2.1.1 in c:\\users\\ryryn\\appdata\\local\\programs\\python\\python311\\lib\\site-packages (from werkzeug>=1.0.1->tensorboard<2.19,>=2.18->tensorflow-intel==2.18.0->tensorflow) (2.1.5)\n",
            "Requirement already satisfied: markdown-it-py>=2.2.0 in c:\\users\\ryryn\\appdata\\local\\programs\\python\\python311\\lib\\site-packages (from rich->keras>=3.5.0->tensorflow-intel==2.18.0->tensorflow) (3.0.0)\n",
            "Requirement already satisfied: pygments<3.0.0,>=2.13.0 in c:\\users\\ryryn\\appdata\\local\\programs\\python\\python311\\lib\\site-packages (from rich->keras>=3.5.0->tensorflow-intel==2.18.0->tensorflow) (2.16.1)\n",
            "Requirement already satisfied: mdurl~=0.1 in c:\\users\\ryryn\\appdata\\local\\programs\\python\\python311\\lib\\site-packages (from markdown-it-py>=2.2.0->rich->keras>=3.5.0->tensorflow-intel==2.18.0->tensorflow) (0.1.2)\n"
          ]
        }
      ]
    },
    {
      "cell_type": "markdown",
      "source": [
        "## Import Libraries"
      ],
      "metadata": {
        "id": "mVD3Cca501WV"
      }
    },
    {
      "cell_type": "code",
      "execution_count": 7,
      "metadata": {
        "collapsed": true,
        "id": "K0u6MC-jL8HB"
      },
      "outputs": [],
      "source": [
        "import gradio as gr\n",
        "import librosa\n",
        "import librosa.display\n",
        "import matplotlib.pyplot as plt\n",
        "import numpy as np\n",
        "from PIL import Image\n",
        "import random\n",
        "import tensorflow as tf\n",
        "import tensorflow_hub as hub"
      ]
    },
    {
      "cell_type": "markdown",
      "source": [
        "## Audio Processing and Neural Style Transfer"
      ],
      "metadata": {
        "id": "Mky3FCPHNW3q"
      }
    },
    {
      "cell_type": "code",
      "source": [
        "# Style images and their paths (please change to correct paths)\n",
        "style_images = {\n",
        "    \"Starry Night\": \"Desktop/Echoes_of_Art/Paintings/StarryNight.jpg\",\n",
        "    \"The Scream\": \"Desktop/Echoes_of_Art/Paintings/Scream.jpg\",\n",
        "    \"The Great Wave\": \"Desktop/Echoes_of_Art/Paintings/Wave.jpg\",\n",
        "    \"Impression, Sunrise\": \"Desktop/Echoes_of_Art/Paintings/Sunrise.jpg\",\n",
        "    \"Persistence of Memory\": \"Desktop/Echoes_of_Art/Paintings/PersistenceofMemory.jpg\",\n",
        "}\n",
        "\n",
        "# Load style transfer model\n",
        "hub_model = hub.load(\"https://www.kaggle.com/models/google/arbitrary-image-stylization-v1/TensorFlow1/256/2\")\n",
        "\n",
        "#Load and process image function\n",
        "def load_image(image_path, image_size=(256, 256)):\n",
        "    try:\n",
        "        img = Image.open(image_path).convert(\"RGB\")\n",
        "        img = img.resize(image_size)\n",
        "        img = np.array(img) / 255.0\n",
        "\n",
        "        # Add creative noise (value between 0.02 and 0.05)\n",
        "        noise_level = np.random.uniform(0.02, 0.05)\n",
        "        noise = np.random.normal(0, noise_level, img.shape)\n",
        "        img = np.clip(img + noise, 0, 1)\n",
        "\n",
        "        # Apply glitch effect randomly (50% chance)\n",
        "        if random.random() < 0.5:\n",
        "            shift = random.randint(-20, 20)\n",
        "            axis = random.choice([0, 1])\n",
        "            img = np.roll(img, shift, axis=axis)\n",
        "\n",
        "        return np.expand_dims(img, axis=0)\n",
        "    except Exception as e:\n",
        "        print(f\"Error loading image {image_path}: {e}\")\n",
        "        return np.zeros((1, *image_size, 3))\n",
        "\n",
        "# convert audio to spectrogram function\n",
        "def audio_to_spectrogram(audio_input):\n",
        "    try:\n",
        "        # audio handling\n",
        "        if isinstance(audio_input, str):\n",
        "            y, sr = librosa.load(audio_input, sr=None)\n",
        "        elif hasattr(audio_input, 'name'):\n",
        "            y, sr = librosa.load(audio_input.name, sr=None)\n",
        "        else:\n",
        "            sr, y = audio_input\n",
        "            y = y.astype(np.float32) / np.iinfo(y.dtype).max\n",
        "\n",
        "        #to spectrogram using Short-Time Fourier Transform\n",
        "        D = librosa.stft(y)\n",
        "        S_db = librosa.amplitude_to_db(np.abs(D), ref=np.max)\n",
        "\n",
        "        fig, ax = plt.subplots(figsize=(10, 5))\n",
        "        ax.set_axis_off()\n",
        "        plt.subplots_adjust(left=0, right=1, top=1, bottom=0)\n",
        "        librosa.display.specshow(S_db, sr=sr, cmap='inferno')\n",
        "\n",
        "        img_path = \"spectrogram.png\"\n",
        "        plt.savefig(img_path, dpi=300, bbox_inches='tight', pad_inches=0)\n",
        "        plt.close(fig)\n",
        "\n",
        "        return img_path\n",
        "    except Exception as e:\n",
        "        print(f\"Error generating spectrogram: {e}\")\n",
        "        return None\n",
        "\n",
        "# apply NST style function\n",
        "def apply_nst_style(content_path, style_name):\n",
        "    try:\n",
        "        # Load images, content image = spectrogram\n",
        "        content_img = load_image(content_path)\n",
        "\n",
        "        # load style image, style image = paintings\n",
        "        style_img = load_image(style_images[style_name])\n",
        "\n",
        "        # Apply style transfer\n",
        "        stylized = hub_model(\n",
        "            tf.constant(content_img, dtype=tf.float32),\n",
        "            tf.constant(style_img, dtype=tf.float32)\n",
        "        )[0]\n",
        "\n",
        "        # Convert to PIL Image\n",
        "        stylized = np.squeeze(stylized.numpy(), axis=0)\n",
        "        stylized = np.clip(stylized * 255, 0, 255).astype(np.uint8)\n",
        "        stylized_img = Image.fromarray(stylized)\n",
        "\n",
        "        # Enlarge the output image\n",
        "        output_size = (1024, 1024)\n",
        "        stylized_img = stylized_img.resize(output_size, Image.Resampling.LANCZOS)\n",
        "\n",
        "        # Save result\n",
        "        output_path = \"stylized_spectrogram.png\"\n",
        "        stylized_img.save(output_path)\n",
        "\n",
        "        return output_path\n",
        "\n",
        "    except Exception as e:\n",
        "        print(f\"Error applying NST: {e}\")\n",
        "        return content_path  # Return original if error occurs\n",
        "\n",
        "#gradio interface\n",
        "with gr.Blocks(theme=gr.themes.Default(font=[gr.themes.GoogleFont(\"Roboto\"), \"Arial\", \"sans-serif\"])) as demo:\n",
        "    # Title and description\n",
        "    gr.Markdown(\"<h1 style='font-size: 36px;'>Echoes of Art</h1>\")\n",
        "    gr.Markdown(\"<p style='font-size: 18px; padding-bottom: 20px;'>Upload or record your own audio and generate a unique visual piece inspired by a famous painting style using Neural Style Transfer.</p>\")\n",
        "\n",
        "    # Audio section\n",
        "    with gr.Row(equal_height=True):\n",
        "        with gr.Column(min_width=400):\n",
        "            with gr.Tab(\"Upload Audio\"):\n",
        "                audio_upload = gr.File(label=\"Upload Audio File\", file_types=[\"audio\"])\n",
        "                upload_button = gr.Button(\"Generate from Upload\", variant=\"primary\")\n",
        "\n",
        "            with gr.Tab(\"Record Audio\"):\n",
        "                mic_recording = gr.Audio(label=\"Record with Microphone\", sources=[\"microphone\"], type=\"numpy\")\n",
        "                record_button = gr.Button(\"Generate from Recording\", variant=\"primary\")\n",
        "\n",
        "        #Spectrogram image box\n",
        "        with gr.Column():\n",
        "            spectrogram_output = gr.Image(label=\"Original Spectrogram\", height=300, interactive=False)\n",
        "\n",
        "    # Generate spectrogram\n",
        "    def process_audio(audio_input):\n",
        "        spectrogram = audio_to_spectrogram(audio_input)\n",
        "        return spectrogram if spectrogram else None\n",
        "\n",
        "    upload_button.click(fn=process_audio, inputs=audio_upload, outputs=spectrogram_output)\n",
        "    record_button.click(fn=process_audio, inputs=mic_recording, outputs=spectrogram_output)\n",
        "\n",
        "    # line separator\n",
        "    gr.HTML(\"<hr style='margin: 20px 0; border: 1px solid #ddd;'>\")\n",
        "\n",
        "    # Painting style selector\n",
        "    gr.Markdown(\"## Select a Painting Style\")\n",
        "    with gr.Row():\n",
        "        style_buttons = []\n",
        "        for style_name, style_path in style_images.items():\n",
        "            with gr.Column(min_width=200):\n",
        "                btn = gr.Button(style_name, variant=\"primary\")\n",
        "                style_buttons.append(btn)\n",
        "                thumbnail = Image.open(style_path).resize((500, 500))\n",
        "                gr.Image(thumbnail, label=style_name, interactive=False, height=500, width=500)\n",
        "\n",
        "    # line separator\n",
        "    gr.HTML(\"<hr style='margin: 20px 0; border: 1px solid #ddd;'>\")\n",
        "\n",
        "    # Stylized result image box\n",
        "    gr.Markdown(\"## Stylized Result\")\n",
        "    stylized_output = gr.Image(height=400)\n",
        "\n",
        "    # Connect style buttons to output\n",
        "    for btn, style_name in zip(style_buttons, style_images.keys()):\n",
        "      btn.click(\n",
        "        fn=apply_nst_style,\n",
        "        inputs=[spectrogram_output, gr.Text(style_name, visible=False)],\n",
        "        outputs=stylized_output\n",
        "    )\n",
        "\n",
        "#run interface\n",
        "demo.launch()"
      ],
      "metadata": {
        "colab": {
          "base_uri": "https://localhost:8080/",
          "height": 646
        },
        "id": "VX-IgtEhM0HD",
        "outputId": "da29ba9c-6342-4864-f0ff-8f3276519398"
      },
      "execution_count": 9,
      "outputs": [
        {
          "output_type": "stream",
          "name": "stdout",
          "text": [
            "WARNING:tensorflow:From C:\\Users\\RyRyN\\AppData\\Local\\Programs\\Python\\Python311\\Lib\\site-packages\\tensorflow_hub\\module_v2.py:126: The name tf.saved_model.load_v2 is deprecated. Please use tf.compat.v2.saved_model.load instead.\n",
            "\n"
          ]
        },
        {
          "output_type": "stream",
          "name": "stderr",
          "text": [
            "WARNING:tensorflow:From C:\\Users\\RyRyN\\AppData\\Local\\Programs\\Python\\Python311\\Lib\\site-packages\\tensorflow_hub\\module_v2.py:126: The name tf.saved_model.load_v2 is deprecated. Please use tf.compat.v2.saved_model.load instead.\n",
            "\n"
          ]
        },
        {
          "output_type": "stream",
          "name": "stdout",
          "text": [
            "* Running on local URL:  http://127.0.0.1:7860\n",
            "\n",
            "To create a public link, set `share=True` in `launch()`.\n"
          ]
        },
        {
          "output_type": "display_data",
          "data": {
            "text/plain": [
              "<IPython.core.display.HTML object>"
            ],
            "text/html": [
              "<div><iframe src=\"http://127.0.0.1:7860/\" width=\"100%\" height=\"500\" allow=\"autoplay; camera; microphone; clipboard-read; clipboard-write;\" frameborder=\"0\" allowfullscreen></iframe></div>"
            ]
          },
          "metadata": {}
        },
        {
          "output_type": "execute_result",
          "data": {
            "text/plain": []
          },
          "metadata": {},
          "execution_count": 9
        }
      ]
    }
  ]
}