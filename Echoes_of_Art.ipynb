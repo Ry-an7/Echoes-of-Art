{
  "nbformat": 4,
  "nbformat_minor": 0,
  "metadata": {
    "colab": {
      "provenance": []
    },
    "kernelspec": {
      "name": "python3",
      "display_name": "Python 3"
    },
    "language_info": {
      "name": "python"
    }
  },
  "cells": [
    {
      "cell_type": "markdown",
      "source": [
        "## Install Libraries"
      ],
      "metadata": {
        "id": "ot0kzOCQ0qwf"
      }
    },
    {
      "cell_type": "code",
      "source": [
        "!pip install gradio\n",
        "!pip install librosa\n",
        "!pip install matplotlib\n",
        "!pip install numpy\n",
        "!pip install pandas\n",
        "!pip install pillow\n",
        "!pip install tensorflow tensorflow_hub"
      ],
      "metadata": {
        "id": "Cp0PD9xNNTy_",
        "collapsed": true
      },
      "execution_count": null,
      "outputs": []
    },
    {
      "cell_type": "markdown",
      "source": [
        "## Import Libraries"
      ],
      "metadata": {
        "id": "mVD3Cca501WV"
      }
    },
    {
      "cell_type": "code",
      "execution_count": 17,
      "metadata": {
        "collapsed": true,
        "id": "K0u6MC-jL8HB"
      },
      "outputs": [],
      "source": [
        "import gradio as gr\n",
        "import librosa\n",
        "import librosa.display\n",
        "import matplotlib.pyplot as plt\n",
        "import numpy as np\n",
        "from PIL import Image\n",
        "import random\n",
        "import tensorflow as tf\n",
        "import tensorflow_hub as hub"
      ]
    },
    {
      "cell_type": "markdown",
      "source": [
        "## Audio Processing and Neural Style Transfer"
      ],
      "metadata": {
        "id": "Mky3FCPHNW3q"
      }
    },
    {
      "cell_type": "code",
      "source": [
        "# Style images and their paths\n",
        "style_images = {\n",
        "    \"Starry Night\": \"Desktop/Echoes_of_Art/Paintings/StarryNight.jpg\",\n",
        "    \"The Scream\": \"Desktop/Echoes_of_Art/Paintings/Scream.jpg\",\n",
        "    \"The Great Wave\": \"Desktop/Echoes_of_Art/Paintings/Wave.jpg\",\n",
        "    \"Impression, Sunrise\": \"Desktop/Echoes_of_Art/Paintings/Sunrise.jpg\",\n",
        "    \"Persistence of Memory\": \"Desktop/Echoes_of_Art/Paintings/PersistenceofMemory.jpg\",\n",
        "}\n",
        "\n",
        "# Load style transfer model\n",
        "hub_model = hub.load(\"https://tfhub.dev/google/magenta/arbitrary-image-stylization-v1-256/2\")\n",
        "\n",
        "#Load and process image function\n",
        "def load_image(image_path, image_size=(256, 256)):\n",
        "    try:\n",
        "        img = Image.open(image_path).convert(\"RGB\")\n",
        "        img = img.resize(image_size)\n",
        "        img = np.array(img) / 255.0\n",
        "\n",
        "        # Add creative noise\n",
        "        noise_level = np.random.uniform(0.02, 0.05)\n",
        "        noise = np.random.normal(0, noise_level, img.shape)\n",
        "        img = np.clip(img + noise, 0, 1)\n",
        "\n",
        "        # Apply glitch effect randomly\n",
        "        if random.random() < 0.5:\n",
        "            shift = random.randint(-20, 20)\n",
        "            axis = random.choice([0, 1])\n",
        "            img = np.roll(img, shift, axis=axis)\n",
        "\n",
        "        return np.expand_dims(img, axis=0)\n",
        "    except Exception as e:\n",
        "        print(f\"Error loading image {image_path}: {e}\")\n",
        "        return np.zeros((1, *image_size, 3))\n",
        "\n",
        "# convert audio to spectrogram\n",
        "def audio_to_spectrogram(audio_input):\n",
        "    try:\n",
        "        if isinstance(audio_input, str):\n",
        "            y, sr = librosa.load(audio_input, sr=None)\n",
        "        elif hasattr(audio_input, 'name'):\n",
        "            y, sr = librosa.load(audio_input.name, sr=None)\n",
        "        else:\n",
        "            sr, y = audio_input\n",
        "            y = y.astype(np.float32) / np.iinfo(y.dtype).max\n",
        "\n",
        "        D = librosa.stft(y)\n",
        "        S_db = librosa.amplitude_to_db(np.abs(D), ref=np.max)\n",
        "\n",
        "        fig, ax = plt.subplots(figsize=(10, 5))\n",
        "        ax.set_axis_off()\n",
        "        plt.subplots_adjust(left=0, right=1, top=1, bottom=0)\n",
        "        librosa.display.specshow(S_db, sr=sr, cmap='inferno')\n",
        "\n",
        "        img_path = \"spectrogram.png\"\n",
        "        plt.savefig(img_path, dpi=300, bbox_inches='tight', pad_inches=0)\n",
        "        plt.close(fig)\n",
        "\n",
        "        return img_path\n",
        "    except Exception as e:\n",
        "        print(f\"Error generating spectrogram: {e}\")\n",
        "        return None\n",
        "\n",
        "def apply_nst_style(content_path, style_name):\n",
        "    try:\n",
        "        # Load images\n",
        "        print(f\"Loading content image: {content_path}\")\n",
        "        content_img = load_image(content_path)  # content image = spectrogram\n",
        "\n",
        "        # load style image\n",
        "        print(f\"Loading style image: {style_images[style_name]}\")\n",
        "        style_img = load_image(style_images[style_name])  # style image = paintings\n",
        "\n",
        "        # Debug: Check if images are loaded\n",
        "        print(f\"Content image shape: {content_img.shape}\")\n",
        "        print(f\"Style image shape: {style_img.shape}\")\n",
        "\n",
        "        # Apply style transfer\n",
        "        print(\"Applying neural style transfer...\")\n",
        "        stylized = hub_model(\n",
        "            tf.constant(content_img, dtype=tf.float32),\n",
        "            tf.constant(style_img, dtype=tf.float32)\n",
        "        )[0]\n",
        "\n",
        "        # Debug: Check the output of style transfer\n",
        "        print(f\"Stylized image shape: {stylized.shape}\")\n",
        "\n",
        "        # Convert to PIL Image\n",
        "        stylized = np.squeeze(stylized.numpy(), axis=0)\n",
        "        stylized = np.clip(stylized * 255, 0, 255).astype(np.uint8)\n",
        "        stylized_img = Image.fromarray(stylized)\n",
        "\n",
        "        # Enlarge the output image\n",
        "        output_size = (1024, 1024)\n",
        "        stylized_img = stylized_img.resize(output_size, Image.Resampling.LANCZOS)\n",
        "\n",
        "        # Save result\n",
        "        output_path = \"stylized_spectrogram.png\"\n",
        "        stylized_img.save(output_path)\n",
        "\n",
        "        # Debug: Ensure the output path is being returned\n",
        "        print(f\"Stylized image saved to: {output_path}\")\n",
        "        return output_path\n",
        "\n",
        "    except Exception as e:\n",
        "        print(f\"Error applying NST: {e}\")\n",
        "        return content_path  # Return original if error occurs\n",
        "\n",
        "with gr.Blocks(theme=gr.themes.Default(font=[gr.themes.GoogleFont(\"Roboto\"), \"Arial\", \"sans-serif\"])) as demo:\n",
        "    # Title and description\n",
        "    gr.Markdown(\"<h1 style='font-size: 36px;'>Echoes of Art</h1>\")\n",
        "    gr.Markdown(\"<p style='font-size: 18px; padding-bottom: 20px;'>Upload or record your own audio and generate a unique visual piece inspired by a famous painting style using Neural Style Transfer.</p>\")\n",
        "\n",
        "    # Audio section\n",
        "    with gr.Row(equal_height=True):\n",
        "        with gr.Column(min_width=400):\n",
        "            with gr.Tab(\"Upload Audio\"):\n",
        "                audio_upload = gr.File(label=\"Upload Audio File\", file_types=[\"audio\"])\n",
        "                upload_button = gr.Button(\"Generate from Upload\", variant=\"primary\")\n",
        "\n",
        "            with gr.Tab(\"Record Audio\"):\n",
        "                mic_recording = gr.Audio(label=\"Record with Microphone\", sources=[\"microphone\"], type=\"numpy\")\n",
        "                record_button = gr.Button(\"Generate from Recording\", variant=\"primary\")\n",
        "\n",
        "        #Spectrogram image box\n",
        "        with gr.Column():\n",
        "            spectrogram_output = gr.Image(label=\"Original Spectrogram\", height=300, interactive=False)\n",
        "\n",
        "    # Generate spectrogram\n",
        "    def process_audio(audio_input):\n",
        "        spectrogram = audio_to_spectrogram(audio_input)\n",
        "        return spectrogram if spectrogram else None\n",
        "\n",
        "    upload_button.click(fn=process_audio, inputs=audio_upload, outputs=spectrogram_output)\n",
        "    record_button.click(fn=process_audio, inputs=mic_recording, outputs=spectrogram_output)\n",
        "\n",
        "    # line separator\n",
        "    gr.HTML(\"<hr style='margin: 20px 0; border: 1px solid #ddd;'>\")\n",
        "\n",
        "    # Painting style selector\n",
        "    gr.Markdown(\"## Select a Painting Style\")\n",
        "    with gr.Row():\n",
        "        style_buttons = []\n",
        "        for style_name, style_path in style_images.items():\n",
        "            with gr.Column(min_width=200):\n",
        "                btn = gr.Button(style_name, variant=\"primary\")\n",
        "                style_buttons.append(btn)\n",
        "                thumbnail = Image.open(style_path).resize((500, 500))\n",
        "                gr.Image(thumbnail, label=style_name, interactive=False, height=500, width=500)\n",
        "\n",
        "    # line separator\n",
        "    gr.HTML(\"<hr style='margin: 20px 0; border: 1px solid #ddd;'>\")\n",
        "\n",
        "    # Stylized output image box\n",
        "    gr.Markdown(\"## Stylized Result\")\n",
        "    stylized_output = gr.Image(height=400)\n",
        "\n",
        "    # Connect style buttons to output\n",
        "    for btn, style_name in zip(style_buttons, style_images.keys()):\n",
        "      btn.click(\n",
        "        fn=apply_nst_style,\n",
        "        inputs=[spectrogram_output, gr.Text(style_name, visible=False)],\n",
        "        outputs=stylized_output\n",
        "    )\n",
        "\n",
        "demo.launch()"
      ],
      "metadata": {
        "collapsed": true,
        "colab": {
          "base_uri": "https://localhost:8080/",
          "height": 574
        },
        "id": "VX-IgtEhM0HD",
        "outputId": "05a4bcaf-1895-457d-f03d-98b6f4b2ef7a"
      },
      "execution_count": 18,
      "outputs": [
        {
          "output_type": "stream",
          "name": "stdout",
          "text": [
            "* Running on local URL:  http://127.0.0.1:7874\n",
            "\n",
            "To create a public link, set `share=True` in `launch()`.\n"
          ]
        },
        {
          "output_type": "display_data",
          "data": {
            "text/plain": [
              "<IPython.core.display.HTML object>"
            ],
            "text/html": [
              "<div><iframe src=\"http://127.0.0.1:7874/\" width=\"100%\" height=\"500\" allow=\"autoplay; camera; microphone; clipboard-read; clipboard-write;\" frameborder=\"0\" allowfullscreen></iframe></div>"
            ]
          },
          "metadata": {}
        },
        {
          "output_type": "execute_result",
          "data": {
            "text/plain": []
          },
          "metadata": {},
          "execution_count": 18
        }
      ]
    }
  ]
}